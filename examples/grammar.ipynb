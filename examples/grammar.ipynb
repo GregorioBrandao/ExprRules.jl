{
 "cells": [
  {
   "cell_type": "code",
   "execution_count": 1,
   "metadata": {
    "collapsed": true
   },
   "outputs": [],
   "source": [
    "using ExprRules"
   ]
  },
  {
   "cell_type": "code",
   "execution_count": 2,
   "metadata": {},
   "outputs": [
    {
     "data": {
      "text/plain": [
       "ExprRules.RuleSet(Any[:x, :(Real * Real), :(f(Real)), :(_(Base.rand(1.0:5.0))), :A, :B, :(g(Real)), 1, 2, 3, 4, 5, 6, 7, 8, 9], Symbol[:Real, :Real, :Real, :Real, :Real, :Real, :Real, :Real, :Real, :Real, :Real, :Real, :Real, :Real, :Real, :Real], Bool[true, false, false, true, true, true, false, true, true, true, true, true, true, true, true, true], Bool[false, false, false, true, false, false, false, false, false, false, false, false, false, false, false, false], Dict(:Real=>[1, 2, 3, 4, 5, 6, 7, 8, 9, 10, 11, 12, 13, 14, 15, 16]))"
      ]
     },
     "execution_count": 2,
     "metadata": {},
     "output_type": "execute_result"
    }
   ],
   "source": [
    "ruleset = @ruleset begin\n",
    "    Real = x\n",
    "    Real = Real * Real\n",
    "    Real = f(Real)\n",
    "    Real = _(Base.rand(1.0:5.0))\n",
    "    Real = A | B | g(Real)\n",
    "    Real = 1 | 2 | 3\n",
    "    Real = |(4:6)\n",
    "    Real = |([7,8,9])\n",
    "end"
   ]
  },
  {
   "cell_type": "code",
   "execution_count": 3,
   "metadata": {},
   "outputs": [
    {
     "data": {
      "text/plain": [
       "16-element Array{Any,1}:\n",
       "  :x                      \n",
       "  :(Real * Real)          \n",
       "  :(f(Real))              \n",
       "  :(_(Base.rand(1.0:5.0)))\n",
       "  :A                      \n",
       "  :B                      \n",
       "  :(g(Real))              \n",
       " 1                        \n",
       " 2                        \n",
       " 3                        \n",
       " 4                        \n",
       " 5                        \n",
       " 6                        \n",
       " 7                        \n",
       " 8                        \n",
       " 9                        "
      ]
     },
     "execution_count": 3,
     "metadata": {},
     "output_type": "execute_result"
    }
   ],
   "source": [
    "ruleset.rules"
   ]
  },
  {
   "cell_type": "code",
   "execution_count": null,
   "metadata": {
    "collapsed": true
   },
   "outputs": [],
   "source": []
  }
 ],
 "metadata": {
  "kernelspec": {
   "display_name": "Julia 0.6.0",
   "language": "julia",
   "name": "julia-0.6"
  },
  "language_info": {
   "file_extension": ".jl",
   "mimetype": "application/julia",
   "name": "julia",
   "version": "0.6.0"
  }
 },
 "nbformat": 4,
 "nbformat_minor": 2
}
